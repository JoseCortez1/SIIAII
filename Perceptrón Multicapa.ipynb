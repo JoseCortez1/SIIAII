{
 "cells": [
  {
   "cell_type": "markdown",
   "metadata": {},
   "source": [
    "# Perceptrón Multicapa\n"
   ]
  },
  {
   "cell_type": "code",
   "execution_count": 13,
   "metadata": {},
   "outputs": [],
   "source": [
    "path_file = \"./data_csv/XOR_trn.csv\""
   ]
  },
  {
   "cell_type": "code",
   "execution_count": 34,
   "metadata": {
    "scrolled": true
   },
   "outputs": [
    {
     "name": "stdout",
     "output_type": "stream",
     "text": [
      "Ingrese la tasa de aprendizaje: 0.1\n",
      "Ingrese el número máximo de iteraciones: 1000\n",
      "Precisión en el conjunto de prueba: 0.00\n"
     ]
    },
    {
     "data": {
      "image/png": "[encoded data removed]",
      "text/plain": [
       "<Figure size 432x288 with 1 Axes>"
      ]
     },
     "metadata": {
      "needs_background": "light"
     },
     "output_type": "display_data"
    }
   ],
   "source": [
    "import numpy as np\n",
    "import pandas as pd\n",
    "from sklearn.neural_network import MLPClassifier\n",
    "import matplotlib.pyplot as plt\n",
    "\n",
    "# Función para cargar datos desde un archivo CSV\n",
    "def load_data(file_path):\n",
    "    df = pd.read_csv(file_path, header=None)\n",
    "    data = df.values\n",
    "    X = data[:, :-1]\n",
    "    y = data[:, -1]\n",
    "    return X, y\n",
    "\n",
    "# Función para visualizar los datos y la frontera de decisión\n",
    "def plot_decision_boundary(X, y, mlp):\n",
    "    # Crear una malla de puntos para la visualización\n",
    "    h = .02  # Tamaño del paso en la malla\n",
    "    x_min, x_max = X[:, 0].min() - 1, X[:, 0].max() + 1\n",
    "    y_min, y_max = X[:, 1].min() - 1, X[:, 1].max() + 1\n",
    "    xx, yy = np.meshgrid(np.arange(x_min, x_max, h), np.arange(y_min, y_max, h))\n",
    "\n",
    "    # Realizar predicciones en la malla\n",
    "    Z = mlp.predict(np.c_[xx.ravel(), yy.ravel()])\n",
    "    Z = Z.reshape(xx.shape)\n",
    "\n",
    "    # Visualizar los datos de entrenamiento\n",
    "    plt.contourf(xx, yy, Z, cmap=plt.cm.RdBu, alpha=0.6)\n",
    "    plt.scatter(X[:, 0], X[:, 1], c=y, cmap=plt.cm.RdBu)\n",
    "    plt.xlabel(\"Característica 1\")\n",
    "    plt.ylabel(\"Característica 2\")\n",
    "    plt.title(\"Frontera de Decisión del Perceptrón Multicapa\")\n",
    "    plt.show()\n",
    "\n",
    "# Datos de entrenamiento: OR lógico\n",
    "X_train, y_train = load_data(path_file)\n",
    "\n",
    "# Solicitar al usuario los pesos de entrenamiento y el número de iteraciones\n",
    "learning_rate = float(input(\"Ingrese la tasa de aprendizaje: \"))\n",
    "max_iter = int(input(\"Ingrese el número máximo de iteraciones: \"))\n",
    "\n",
    "# Crear y entrenar un perceptrón multicapa con los parámetros proporcionados por el usuario\n",
    "mlp = MLPClassifier(hidden_layer_sizes=(2,), activation='logistic', max_iter=max_iter, random_state=0, learning_rate_init=learning_rate)\n",
    "mlp.fit(X_train, y_train)\n",
    "\n",
    "# Datos de prueba\n",
    "X_test = np.array([[1, 1], [1, -1], [-1, 1], [-1, -1]])\n",
    "y_test = np.array([1, 0, 0, 0])  # Etiquetas correspondientes a los patrones de prueba\n",
    "\n",
    "# Realizar predicciones en los datos de prueba\n",
    "y_pred = mlp.predict(X_test)\n",
    "\n",
    "# Calcular la precisión en los datos de prueba\n",
    "accuracy = np.mean(y_test == y_pred)\n",
    "print(f'Precisión en el conjunto de prueba: {accuracy:.2f}')\n",
    "\n",
    "# Visualizar la frontera de decisión\n",
    "plot_decision_boundary(X_train, y_train, mlp)\n"
   ]
  },
  {
   "cell_type": "code",
   "execution_count": null,
   "metadata": {},
   "outputs": [],
   "source": []
  },
  {
   "cell_type": "code",
   "execution_count": null,
   "metadata": {},
   "outputs": [],
   "source": []
  }
 ],
 "metadata": {
  "kernelspec": {
   "display_name": "Python 3",
   "language": "python",
   "name": "python3"
  },
  "language_info": {
   "codemirror_mode": {
    "name": "ipython",
    "version": 3
   },
   "file_extension": ".py",
   "mimetype": "text/x-python",
   "name": "python",
   "nbconvert_exporter": "python",
   "pygments_lexer": "ipython3",
   "version": "3.8.5"
  }
 },
 "nbformat": 4,
 "nbformat_minor": 4
}
