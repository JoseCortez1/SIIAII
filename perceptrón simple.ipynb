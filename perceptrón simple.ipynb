{
 "cells": [
  {
   "cell_type": "markdown",
   "metadata": {},
   "source": [
    "# Percepton simple\n",
    "### Pasos \n",
    "1. Importar los paquetes necesarios"
   ]
  },
  {
   "cell_type": "code",
   "execution_count": 4,
   "metadata": {},
   "outputs": [],
   "source": [
    "import numpy as np\n",
    "import pandas as pd\n",
    "import matplotlib.pyplot as plt\n",
    "from sklearn.linear_model import Perceptron\n",
    "from sklearn.metrics import accuracy_score"
   ]
  },
  {
   "cell_type": "markdown",
   "metadata": {},
   "source": [
    "2. Carga de datos"
   ]
  },
  {
   "cell_type": "code",
   "execution_count": 5,
   "metadata": {},
   "outputs": [],
   "source": [
    "\n",
    "# Función para cargar datos desde un archivo CSV\n",
    "def load_data(file_path):\n",
    "    df = pd.read_csv(file_path, header=None)\n",
    "    data = df.values\n",
    "    X = data[:, :-1]\n",
    "    y = data[:, -1]\n",
    "    return X, y       "
   ]
  },
  {
   "cell_type": "markdown",
   "metadata": {},
   "source": [
    "3. Entrenar y probar un perceptrón"
   ]
  },
  {
   "cell_type": "code",
   "execution_count": 6,
   "metadata": {},
   "outputs": [],
   "source": [
    "# Función para entrenar y probar un perceptrón\n",
    "def train_and_test_perceptron(X_train, y_train, X_test, y_test, learning_rate, max_epochs):\n",
    "    perceptron = Perceptron(eta0=learning_rate, max_iter=max_epochs, random_state=0)\n",
    "    perceptron.fit(X_train, y_train)\n",
    "\n",
    "    y_pred = perceptron.predict(X_test)\n",
    "    accuracy = accuracy_score(y_test, y_pred)\n",
    "    \n",
    "    return perceptron, accuracy"
   ]
  },
  {
   "cell_type": "markdown",
   "metadata": {},
   "source": [
    "4. Mostrar gráficamente los patrones"
   ]
  },
  {
   "cell_type": "code",
   "execution_count": 7,
   "metadata": {},
   "outputs": [],
   "source": [
    "\n",
    "# Función para mostrar gráficamente los patrones y la recta de separación\n",
    "def plot_data_and_decision_boundary(X, y, perceptron):\n",
    "    plt.scatter(X[:, 0], X[:, 1], c=y)\n",
    "    plt.xlabel(\"Entrada 1\")\n",
    "    plt.ylabel(\"Entrada 2\")\n",
    "\n",
    "    xlim = plt.gca().get_xlim()\n",
    "    ylim = plt.gca().get_ylim()\n",
    "    xx, yy = np.meshgrid(np.linspace(xlim[0], xlim[1], 50),\n",
    "                         np.linspace(ylim[0], ylim[1], 50))\n",
    "    Z = perceptron.predict(np.c_[xx.ravel(), yy.ravel()])\n",
    "    Z = Z.reshape(xx.shape)\n",
    "\n",
    "    plt.contourf(xx, yy, Z, alpha=0.3)\n",
    "\n",
    "    plt.show()"
   ]
  },
  {
   "cell_type": "markdown",
   "metadata": {},
   "source": [
    "5. Ejecución de programa"
   ]
  },
  {
   "cell_type": "code",
   "execution_count": 12,
   "metadata": {},
   "outputs": [
    {
     "name": "stdout",
     "output_type": "stream",
     "text": [
      "Ingrese la tasa de aprendizaje: 0.0001\n",
      "Ingrese el número máximo de épocas de entrenamiento: 1000\n",
      "Precisión en el conjunto de prueba: 0.51\n"
     ]
    },
    {
     "data": {
      "image/png": "[encoded data removed]",
      "text/plain": [
       "<Figure size 432x288 with 1 Axes>"
      ]
     },
     "metadata": {
      "needs_background": "light"
     },
     "output_type": "display_data"
    }
   ],
   "source": [
    "\n",
    "# Lectura de datos de entrenamiento y prueba desde archivos CSV\n",
    "X_train, y_train = load_data(\"./data_csv/XOR_trn.csv\")\n",
    "X_test, y_test = load_data(\"./data_csv/XOR_tst.csv\")\n",
    "\n",
    "# Selección de parámetros\n",
    "learning_rate = float(input(\"Ingrese la tasa de aprendizaje: \"))\n",
    "max_epochs = int(input(\"Ingrese el número máximo de épocas de entrenamiento: \"))\n",
    "\n",
    "# Entrenamiento y prueba del perceptrón\n",
    "perceptron, accuracy = train_and_test_perceptron(X_train, y_train, X_test, y_test, learning_rate, max_epochs)\n",
    "\n",
    "print(f\"Precisión en el conjunto de prueba: {accuracy:.2f}\")\n",
    "\n",
    "# Mostrar gráficamente los patrones y la recta de separación\n",
    "plot_data_and_decision_boundary(X_train, y_train, perceptron)"
   ]
  },
  {
   "cell_type": "code",
   "execution_count": null,
   "metadata": {},
   "outputs": [],
   "source": []
  }
 ],
 "metadata": {
  "kernelspec": {
   "display_name": "Python 3",
   "language": "python",
   "name": "python3"
  },
  "language_info": {
   "codemirror_mode": {
    "name": "ipython",
    "version": 3
   },
   "file_extension": ".py",
   "mimetype": "text/x-python",
   "name": "python",
   "nbconvert_exporter": "python",
   "pygments_lexer": "ipython3",
   "version": "3.8.5"
  }
 },
 "nbformat": 4,
 "nbformat_minor": 4
}
